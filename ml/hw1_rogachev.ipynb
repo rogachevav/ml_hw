{
 "cells": [
  {
   "cell_type": "markdown",
   "metadata": {},
   "source": [
    "# Алгоритмы интеллектуальной обработки больших объемов данных\n",
    "## Домашнее задание №1 - Метод k-средних, предобработка признаков\n"
   ]
  },
  {
   "cell_type": "markdown",
   "metadata": {},
   "source": [
    "###### <hr\\>\n",
    "**Общая информация**\n",
    "\n",
    "**Срок сдачи:** 6 марта 2017, 06:00 <br\\>\n",
    "**Штраф за опоздание:** -2 балла после 06:00 6 марта, -4 балла после 06:00 13 марта, -6 баллов после 06:00 20 марта\n",
    "\n",
    "При отправлении ДЗ указывайте фамилию в названии файла<br\\>\n",
    "\n",
    "Используйте данный Ipython Notebook при оформлении домашнего задания.\n",
    "<hr\\>"
   ]
  },
  {
   "cell_type": "markdown",
   "metadata": {},
   "source": [
    "# Первое задание - указать фамилию в имени файла"
   ]
  },
  {
   "cell_type": "code",
   "execution_count": 2,
   "metadata": {
    "collapsed": true
   },
   "outputs": [],
   "source": [
    "import pandas as pd\n",
    "import numpy as np\n",
    "import matplotlib.pyplot as plt\n",
    "\n",
    "%matplotlib inline\n",
    "\n",
    "plt.style.use('ggplot')\n",
    "plt.rcParams['figure.figsize'] = (12,5)"
   ]
  },
  {
   "cell_type": "markdown",
   "metadata": {},
   "source": [
    "# Пролог: Модуль sklearn\n",
    "На наших практических занятиях мы будем использовать [sklearn](http://scikit-learn.org/stable/index.html) (scikit-learn) - наиболее популярный модуль для работы с методами машинного обучения и анализа данных.\n",
    "\n",
    "Этот модуль регулярно обновляется, расширяется и сопровождается примерами использования тех или иных методов. Помимо самих алгоритмов (например k-средних или линейной регрессии) в нем есть множество вспомогательных функций по работе с данными."
   ]
  },
  {
   "cell_type": "markdown",
   "metadata": {},
   "source": [
    "# Туториал: Работа с различными типами признаков"
   ]
  },
  {
   "cell_type": "markdown",
   "metadata": {},
   "source": [
    "Вспомним какие типы признаков могут встретится при описании объектов исследования и как их представить в доступной для обработки компьтером форме"
   ]
  },
  {
   "cell_type": "markdown",
   "metadata": {},
   "source": [
    "Типы признаков мы будем рассматривать на примере довольно популярного набора данных [titanic](https://www.kaggle.com/c/titanic/download/train.csv) - информации о выживаемости пассажиров после известной трагедии корабля Titanic."
   ]
  },
  {
   "cell_type": "raw",
   "metadata": {},
   "source": [
    "ARIABLE DESCRIPTIONS:\n",
    "survival        Survival\n",
    "                (0 = No; 1 = Yes)\n",
    "pclass          Passenger Class\n",
    "                (1 = 1st; 2 = 2nd; 3 = 3rd)\n",
    "name            Name\n",
    "sex             Sex\n",
    "age             Age\n",
    "sibsp           Number of Siblings/Spouses Aboard\n",
    "parch           Number of Parents/Children Aboard\n",
    "ticket          Ticket Number\n",
    "fare            Passenger Fare\n",
    "cabin           Cabin\n",
    "embarked        Port of Embarkation\n",
    "                (C = Cherbourg; Q = Queenstown; S = Southampton)"
   ]
  },
  {
   "cell_type": "code",
   "execution_count": 3,
   "metadata": {
    "collapsed": false
   },
   "outputs": [
    {
     "data": {
      "text/html": [
       "<div>\n",
       "<table border=\"1\" class=\"dataframe\">\n",
       "  <thead>\n",
       "    <tr style=\"text-align: right;\">\n",
       "      <th></th>\n",
       "      <th>PassengerId</th>\n",
       "      <th>Survived</th>\n",
       "      <th>Pclass</th>\n",
       "      <th>Name</th>\n",
       "      <th>Sex</th>\n",
       "      <th>Age</th>\n",
       "      <th>SibSp</th>\n",
       "      <th>Parch</th>\n",
       "      <th>Ticket</th>\n",
       "      <th>Fare</th>\n",
       "      <th>Cabin</th>\n",
       "      <th>Embarked</th>\n",
       "    </tr>\n",
       "  </thead>\n",
       "  <tbody>\n",
       "    <tr>\n",
       "      <th>1</th>\n",
       "      <td>2</td>\n",
       "      <td>1</td>\n",
       "      <td>1</td>\n",
       "      <td>Cumings, Mrs. John Bradley (Florence Briggs Th...</td>\n",
       "      <td>female</td>\n",
       "      <td>38.0</td>\n",
       "      <td>1</td>\n",
       "      <td>0</td>\n",
       "      <td>PC 17599</td>\n",
       "      <td>71.2833</td>\n",
       "      <td>C85</td>\n",
       "      <td>C</td>\n",
       "    </tr>\n",
       "    <tr>\n",
       "      <th>3</th>\n",
       "      <td>4</td>\n",
       "      <td>1</td>\n",
       "      <td>1</td>\n",
       "      <td>Futrelle, Mrs. Jacques Heath (Lily May Peel)</td>\n",
       "      <td>female</td>\n",
       "      <td>35.0</td>\n",
       "      <td>1</td>\n",
       "      <td>0</td>\n",
       "      <td>113803</td>\n",
       "      <td>53.1000</td>\n",
       "      <td>C123</td>\n",
       "      <td>S</td>\n",
       "    </tr>\n",
       "    <tr>\n",
       "      <th>6</th>\n",
       "      <td>7</td>\n",
       "      <td>0</td>\n",
       "      <td>1</td>\n",
       "      <td>McCarthy, Mr. Timothy J</td>\n",
       "      <td>male</td>\n",
       "      <td>54.0</td>\n",
       "      <td>0</td>\n",
       "      <td>0</td>\n",
       "      <td>17463</td>\n",
       "      <td>51.8625</td>\n",
       "      <td>E46</td>\n",
       "      <td>S</td>\n",
       "    </tr>\n",
       "    <tr>\n",
       "      <th>10</th>\n",
       "      <td>11</td>\n",
       "      <td>1</td>\n",
       "      <td>3</td>\n",
       "      <td>Sandstrom, Miss. Marguerite Rut</td>\n",
       "      <td>female</td>\n",
       "      <td>4.0</td>\n",
       "      <td>1</td>\n",
       "      <td>1</td>\n",
       "      <td>PP 9549</td>\n",
       "      <td>16.7000</td>\n",
       "      <td>G6</td>\n",
       "      <td>S</td>\n",
       "    </tr>\n",
       "    <tr>\n",
       "      <th>11</th>\n",
       "      <td>12</td>\n",
       "      <td>1</td>\n",
       "      <td>1</td>\n",
       "      <td>Bonnell, Miss. Elizabeth</td>\n",
       "      <td>female</td>\n",
       "      <td>58.0</td>\n",
       "      <td>0</td>\n",
       "      <td>0</td>\n",
       "      <td>113783</td>\n",
       "      <td>26.5500</td>\n",
       "      <td>C103</td>\n",
       "      <td>S</td>\n",
       "    </tr>\n",
       "  </tbody>\n",
       "</table>\n",
       "</div>"
      ],
      "text/plain": [
       "    PassengerId  Survived  Pclass  \\\n",
       "1             2         1       1   \n",
       "3             4         1       1   \n",
       "6             7         0       1   \n",
       "10           11         1       3   \n",
       "11           12         1       1   \n",
       "\n",
       "                                                 Name     Sex   Age  SibSp  \\\n",
       "1   Cumings, Mrs. John Bradley (Florence Briggs Th...  female  38.0      1   \n",
       "3        Futrelle, Mrs. Jacques Heath (Lily May Peel)  female  35.0      1   \n",
       "6                             McCarthy, Mr. Timothy J    male  54.0      0   \n",
       "10                    Sandstrom, Miss. Marguerite Rut  female   4.0      1   \n",
       "11                           Bonnell, Miss. Elizabeth  female  58.0      0   \n",
       "\n",
       "    Parch    Ticket     Fare Cabin Embarked  \n",
       "1       0  PC 17599  71.2833   C85        C  \n",
       "3       0    113803  53.1000  C123        S  \n",
       "6       0     17463  51.8625   E46        S  \n",
       "10      1   PP 9549  16.7000    G6        S  \n",
       "11      0    113783  26.5500  C103        S  "
      ]
     },
     "execution_count": 3,
     "metadata": {},
     "output_type": "execute_result"
    }
   ],
   "source": [
    "df_titanic = pd.read_csv('train.csv', sep=',').dropna()\n",
    "df_titanic.head()"
   ]
  },
  {
   "cell_type": "markdown",
   "metadata": {},
   "source": [
    "## Бинарные признаки\n",
    "Это признаки с двумя возможными значениями\n",
    "* Пол (мужской, женский)\n",
    "* Выжил (да, нет)\n",
    "\n",
    "На вход в алгоритмы обычно подаются в виде значений `{0, 1}` (реже в виде `{-1, 1}`)"
   ]
  },
  {
   "cell_type": "code",
   "execution_count": 4,
   "metadata": {
    "collapsed": false
   },
   "outputs": [
    {
     "data": {
      "text/plain": [
       "1    123\n",
       "0     60\n",
       "Name: Survived, dtype: int64"
      ]
     },
     "execution_count": 4,
     "metadata": {},
     "output_type": "execute_result"
    }
   ],
   "source": [
    "# Здесь все нормально\n",
    "df_titanic.Survived.value_counts()"
   ]
  },
  {
   "cell_type": "code",
   "execution_count": 5,
   "metadata": {
    "collapsed": false
   },
   "outputs": [
    {
     "data": {
      "text/plain": [
       "male      95\n",
       "female    88\n",
       "Name: Sex, dtype: int64"
      ]
     },
     "execution_count": 5,
     "metadata": {},
     "output_type": "execute_result"
    }
   ],
   "source": [
    "# Тут стоит выполнить переобознаение\n",
    "df_titanic.Sex.value_counts()"
   ]
  },
  {
   "cell_type": "code",
   "execution_count": 6,
   "metadata": {
    "collapsed": false
   },
   "outputs": [
    {
     "data": {
      "text/plain": [
       "0    95\n",
       "1    88\n",
       "Name: Sex, dtype: int64"
      ]
     },
     "execution_count": 6,
     "metadata": {},
     "output_type": "execute_result"
    }
   ],
   "source": [
    "# Например так\n",
    "df_titanic.Sex = df_titanic.Sex.replace({'male': 0, 'female': 1})\n",
    "df_titanic.Sex.value_counts()"
   ]
  },
  {
   "cell_type": "markdown",
   "metadata": {},
   "source": [
    "## Вещественные признаки\n",
    "\n",
    "* Возраст\n",
    "* Сумма, потраченная на билет\n",
    "* Количество родственников на борту\n",
    "\n",
    "Как правило остаются в том же виде или выполняется **нормализация** признаков, т.е. переход к одинаковой шкале, например:\n",
    "\n",
    "* $\\tilde{x} = \\frac{x - \\text{mean}(x)}{\\text{std}(x)}$\n",
    "* $\\tilde{x} = \\frac{x - \\text{min}(x)}{\\text{max}(x) - \\text{min}(x)}$"
   ]
  },
  {
   "cell_type": "markdown",
   "metadata": {},
   "source": [
    "## Категориальные признаки\n",
    "\n",
    "Принимают значения из *неупорядоченного* множества\n",
    "\n",
    "* Порт погрузки (C = Cherbourg; Q = Queenstown; S = Southampton)\n",
    "* Точка отправления (St Louis, MO; Montreal, PQ; .. }\n",
    "* Точка назначения (Chesterville, ON; Roseville, IL; .. }\n",
    "\n",
    "Обычно такие признаки кодируют с помощью так называемого One Hot Encoding: </br>\n",
    "для каждой категории создается бинарная маска-столбец, в которой стоит `1` если значение признака равно значению соответствующей категории категории.\n",
    "\n",
    "Например, для признака \"порт погрзки\" создается бинарная макска из трех стобцов для каждого из портов: С, Q, S<br/>\n",
    "Если пассажир заходил на кораблю в порту Southampton, то его признаковое описание будет соответственно: `[0, 0, 1]`"
   ]
  },
  {
   "cell_type": "code",
   "execution_count": 7,
   "metadata": {
    "collapsed": false
   },
   "outputs": [
    {
     "data": {
      "text/plain": [
       "1     C\n",
       "3     S\n",
       "6     S\n",
       "10    S\n",
       "11    S\n",
       "Name: Embarked, dtype: object"
      ]
     },
     "execution_count": 7,
     "metadata": {},
     "output_type": "execute_result"
    }
   ],
   "source": [
    "df_titanic.Embarked.head()"
   ]
  },
  {
   "cell_type": "code",
   "execution_count": 8,
   "metadata": {
    "collapsed": false
   },
   "outputs": [
    {
     "data": {
      "text/html": [
       "<div>\n",
       "<table border=\"1\" class=\"dataframe\">\n",
       "  <thead>\n",
       "    <tr style=\"text-align: right;\">\n",
       "      <th></th>\n",
       "      <th>Embarked=C</th>\n",
       "      <th>Embarked=Q</th>\n",
       "      <th>Embarked=S</th>\n",
       "    </tr>\n",
       "  </thead>\n",
       "  <tbody>\n",
       "    <tr>\n",
       "      <th>1</th>\n",
       "      <td>1</td>\n",
       "      <td>0</td>\n",
       "      <td>0</td>\n",
       "    </tr>\n",
       "    <tr>\n",
       "      <th>3</th>\n",
       "      <td>0</td>\n",
       "      <td>0</td>\n",
       "      <td>1</td>\n",
       "    </tr>\n",
       "    <tr>\n",
       "      <th>6</th>\n",
       "      <td>0</td>\n",
       "      <td>0</td>\n",
       "      <td>1</td>\n",
       "    </tr>\n",
       "    <tr>\n",
       "      <th>10</th>\n",
       "      <td>0</td>\n",
       "      <td>0</td>\n",
       "      <td>1</td>\n",
       "    </tr>\n",
       "    <tr>\n",
       "      <th>11</th>\n",
       "      <td>0</td>\n",
       "      <td>0</td>\n",
       "      <td>1</td>\n",
       "    </tr>\n",
       "  </tbody>\n",
       "</table>\n",
       "</div>"
      ],
      "text/plain": [
       "    Embarked=C  Embarked=Q  Embarked=S\n",
       "1            1           0           0\n",
       "3            0           0           1\n",
       "6            0           0           1\n",
       "10           0           0           1\n",
       "11           0           0           1"
      ]
     },
     "execution_count": 8,
     "metadata": {},
     "output_type": "execute_result"
    }
   ],
   "source": [
    "# Сделать в python это можно несколькими способами:\n",
    "\n",
    "# 1: Через pandas (не очень рекомендуется)\n",
    "emb = pd.get_dummies(df_titanic.Embarked, prefix='Embarked', prefix_sep='=')\n",
    "emb.head()"
   ]
  },
  {
   "cell_type": "code",
   "execution_count": 9,
   "metadata": {
    "collapsed": false
   },
   "outputs": [
    {
     "data": {
      "text/plain": [
       "array([[ 1.,  0.,  0.],\n",
       "       [ 0.,  0.,  1.],\n",
       "       [ 0.,  0.,  1.],\n",
       "       [ 0.,  0.,  1.],\n",
       "       [ 0.,  0.,  1.]])"
      ]
     },
     "execution_count": 9,
     "metadata": {},
     "output_type": "execute_result"
    }
   ],
   "source": [
    "# 2: Функционал sklearn\n",
    "from sklearn.preprocessing import OneHotEncoder\n",
    "\n",
    "encoder = OneHotEncoder(sparse=False)\n",
    "\n",
    "emb = df_titanic.loc[:, ['Embarked']].replace({'C': 0, 'Q': 1, 'S': 2}).values\n",
    "emb_enc = encoder.fit_transform(emb)\n",
    "emb_enc[:5]"
   ]
  },
  {
   "cell_type": "markdown",
   "metadata": {},
   "source": [
    "Про другием способы работы с категориальными переменными можно прочитать вот [тут](https://alexanderdyakonov.wordpress.com/2016/08/03/python-%D0%BA%D0%B0%D1%82%D0%B5%D0%B3%D0%BE%D1%80%D0%B8%D0%B0%D0%BB%D1%8C%D0%BD%D1%8B%D0%B5-%D0%BF%D1%80%D0%B8%D0%B7%D0%BD%D0%B0%D0%BA%D0%B8/)"
   ]
  },
  {
   "cell_type": "markdown",
   "metadata": {},
   "source": [
    "## Порядковый признаки"
   ]
  },
  {
   "cell_type": "markdown",
   "metadata": {},
   "source": [
    "Принимают значения из *упорядоченного* множества\n",
    "\n",
    "* Класс каюты (1 > 2 > 3)\n",
    "\n",
    "В зависимости от метода можно оставить в исходном виде или применить OneHotEncoding."
   ]
  },
  {
   "cell_type": "markdown",
   "metadata": {},
   "source": [
    "## Текстовые признаки - Bag of words"
   ]
  },
  {
   "cell_type": "markdown",
   "metadata": {},
   "source": [
    "Для демонстрации возьмем текст стихотворения Блока:\n",
    "\n",
    "Ночь, улица, фонарь, аптека,<br/>\n",
    "Бессмысленный и тусклый свет.<br/>\n",
    "Живи еще хоть четверть века -<br/>\n",
    "Все будет так. Исхода нет.<br/>\n",
    "\n",
    "Умрешь - начнешь опять сначала<br/>\n",
    "И повторится все, как встарь:<br/>\n",
    "Ночь, ледяная рябь канала,<br/>\n",
    "Аптека, улица, фонарь.<br/>\n",
    "\n",
    "Пусть каждая строчка - это будет условный документ. Переведем эти документы в числовое представление по методу мешка слов (Bag Of Words)"
   ]
  },
  {
   "cell_type": "code",
   "execution_count": 10,
   "metadata": {
    "collapsed": false
   },
   "outputs": [],
   "source": [
    "from sklearn.feature_extraction.text import CountVectorizer\n",
    "from sklearn.feature_extraction.text import TfidfVectorizer\n",
    "\n",
    "corpus = \\\n",
    "[u'Ночь, улица, фонарь, аптека,',\n",
    " u'Бессмысленный и тусклый свет.',\n",
    " u'Живи еще хоть четверть века -',\n",
    " u'Все будет так. Исхода нет.',\n",
    " u'Умрешь - начнешь опять сначала',\n",
    " u'И повторится все, как встарь:',\n",
    " u'Ночь, Аптека рябь канала,',\n",
    " u'Аптека, Аптека, Аптека.']"
   ]
  },
  {
   "cell_type": "code",
   "execution_count": 11,
   "metadata": {
    "collapsed": false
   },
   "outputs": [
    {
     "data": {
      "text/plain": [
       "(8, 26)"
      ]
     },
     "execution_count": 11,
     "metadata": {},
     "output_type": "execute_result"
    }
   ],
   "source": [
    "vect = CountVectorizer()\n",
    "\n",
    "bow = vect.fit_transform(corpus)\n",
    "bow = bow.toarray()\n",
    "bow.shape"
   ]
  },
  {
   "cell_type": "markdown",
   "metadata": {},
   "source": [
    "Получили матрицу размера $8 \\times 27$, так как у нас 8 строчек и выделилось 27 униальных слов. Элемент матрицы показывает сколько раз слово встречалось в соответствующем документе."
   ]
  },
  {
   "cell_type": "code",
   "execution_count": 12,
   "metadata": {
    "collapsed": false
   },
   "outputs": [
    {
     "data": {
      "text/plain": [
       "array([[1, 0, 0, 0, 0, 0, 0, 0, 0, 0, 0, 0, 0, 1, 0, 0, 0, 0, 0, 0, 0, 1,\n",
       "        0, 1, 0, 0],\n",
       "       [0, 1, 0, 0, 0, 0, 0, 0, 0, 0, 0, 0, 0, 0, 0, 0, 0, 1, 0, 0, 1, 0,\n",
       "        0, 0, 0, 0],\n",
       "       [0, 0, 0, 1, 0, 0, 1, 1, 0, 0, 0, 0, 0, 0, 0, 0, 0, 0, 0, 0, 0, 0,\n",
       "        0, 0, 1, 1],\n",
       "       [0, 0, 1, 0, 1, 0, 0, 0, 1, 0, 0, 0, 1, 0, 0, 0, 0, 0, 0, 1, 0, 0,\n",
       "        0, 0, 0, 0],\n",
       "       [0, 0, 0, 0, 0, 0, 0, 0, 0, 0, 0, 1, 0, 0, 1, 0, 0, 0, 1, 0, 0, 0,\n",
       "        1, 0, 0, 0],\n",
       "       [0, 0, 0, 0, 1, 1, 0, 0, 0, 1, 0, 0, 0, 0, 0, 1, 0, 0, 0, 0, 0, 0,\n",
       "        0, 0, 0, 0],\n",
       "       [1, 0, 0, 0, 0, 0, 0, 0, 0, 0, 1, 0, 0, 1, 0, 0, 1, 0, 0, 0, 0, 0,\n",
       "        0, 0, 0, 0],\n",
       "       [3, 0, 0, 0, 0, 0, 0, 0, 0, 0, 0, 0, 0, 0, 0, 0, 0, 0, 0, 0, 0, 0,\n",
       "        0, 0, 0, 0]])"
      ]
     },
     "execution_count": 12,
     "metadata": {},
     "output_type": "execute_result"
    }
   ],
   "source": [
    "bow"
   ]
  },
  {
   "cell_type": "code",
   "execution_count": 13,
   "metadata": {
    "collapsed": false
   },
   "outputs": [
    {
     "name": "stdout",
     "output_type": "stream",
     "text": [
      "столбец 0: аптека\n",
      "столбец 1: бессмысленный\n",
      "столбец 2: будет\n",
      "столбец 3: века\n",
      "столбец 4: все\n",
      "столбец 5: встарь\n",
      "столбец 6: еще\n",
      "столбец 7: живи\n",
      "столбец 8: исхода\n",
      "столбец 9: как\n",
      "столбец 10: канала\n",
      "столбец 11: начнешь\n",
      "столбец 12: нет\n",
      "столбец 13: ночь\n",
      "столбец 14: опять\n",
      "столбец 15: повторится\n",
      "столбец 16: рябь\n",
      "столбец 17: свет\n",
      "столбец 18: сначала\n",
      "столбец 19: так\n",
      "столбец 20: тусклый\n",
      "столбец 21: улица\n",
      "столбец 22: умрешь\n",
      "столбец 23: фонарь\n",
      "столбец 24: хоть\n",
      "столбец 25: четверть\n"
     ]
    }
   ],
   "source": [
    "# Посмотрим какие слова стоят по столбцам\n",
    "for i, w in enumerate(vect.get_feature_names()):\n",
    "    print u'столбец %d: %s' % (i, w)"
   ]
  },
  {
   "cell_type": "markdown",
   "metadata": {},
   "source": [
    "# Туториал: Имплементация собственного метода"
   ]
  },
  {
   "cell_type": "markdown",
   "metadata": {},
   "source": [
    "Для решения задач вида \"имплементируйте метод X\" крайне желательно (но необязательно) реализовывать методы с помощью интерфейса sklearn. Ниже вы увидите пример очень простого **классификатора**. Используйте эти наработки для выполнения задания."
   ]
  },
  {
   "cell_type": "markdown",
   "metadata": {},
   "source": [
    "Загрузите [датасет](https://archive.ics.uci.edu/ml/machine-learning-databases/wine-quality/winequality-red.csv) с информацией о характеристиках вина и его качестве. (В метод `pd.read_csv()` можно подать веб-ссылку на данные и пандас их скачает и преобразует в `DataFrame`)."
   ]
  },
  {
   "cell_type": "code",
   "execution_count": 14,
   "metadata": {
    "collapsed": false
   },
   "outputs": [],
   "source": [
    "df_wine = pd.read_csv('https://archive.ics.uci.edu/ml/machine-learning-databases/wine-quality/winequality-red.csv', sep=';')"
   ]
  },
  {
   "cell_type": "code",
   "execution_count": 15,
   "metadata": {
    "collapsed": false
   },
   "outputs": [
    {
     "data": {
      "text/html": [
       "<div>\n",
       "<table border=\"1\" class=\"dataframe\">\n",
       "  <thead>\n",
       "    <tr style=\"text-align: right;\">\n",
       "      <th></th>\n",
       "      <th>fixed acidity</th>\n",
       "      <th>volatile acidity</th>\n",
       "      <th>citric acid</th>\n",
       "      <th>residual sugar</th>\n",
       "      <th>chlorides</th>\n",
       "      <th>free sulfur dioxide</th>\n",
       "      <th>total sulfur dioxide</th>\n",
       "      <th>density</th>\n",
       "      <th>pH</th>\n",
       "      <th>sulphates</th>\n",
       "      <th>alcohol</th>\n",
       "      <th>quality</th>\n",
       "    </tr>\n",
       "  </thead>\n",
       "  <tbody>\n",
       "    <tr>\n",
       "      <th>0</th>\n",
       "      <td>7.4</td>\n",
       "      <td>0.70</td>\n",
       "      <td>0.00</td>\n",
       "      <td>1.9</td>\n",
       "      <td>0.076</td>\n",
       "      <td>11.0</td>\n",
       "      <td>34.0</td>\n",
       "      <td>0.9978</td>\n",
       "      <td>3.51</td>\n",
       "      <td>0.56</td>\n",
       "      <td>9.4</td>\n",
       "      <td>5</td>\n",
       "    </tr>\n",
       "    <tr>\n",
       "      <th>1</th>\n",
       "      <td>7.8</td>\n",
       "      <td>0.88</td>\n",
       "      <td>0.00</td>\n",
       "      <td>2.6</td>\n",
       "      <td>0.098</td>\n",
       "      <td>25.0</td>\n",
       "      <td>67.0</td>\n",
       "      <td>0.9968</td>\n",
       "      <td>3.20</td>\n",
       "      <td>0.68</td>\n",
       "      <td>9.8</td>\n",
       "      <td>5</td>\n",
       "    </tr>\n",
       "    <tr>\n",
       "      <th>2</th>\n",
       "      <td>7.8</td>\n",
       "      <td>0.76</td>\n",
       "      <td>0.04</td>\n",
       "      <td>2.3</td>\n",
       "      <td>0.092</td>\n",
       "      <td>15.0</td>\n",
       "      <td>54.0</td>\n",
       "      <td>0.9970</td>\n",
       "      <td>3.26</td>\n",
       "      <td>0.65</td>\n",
       "      <td>9.8</td>\n",
       "      <td>5</td>\n",
       "    </tr>\n",
       "    <tr>\n",
       "      <th>3</th>\n",
       "      <td>11.2</td>\n",
       "      <td>0.28</td>\n",
       "      <td>0.56</td>\n",
       "      <td>1.9</td>\n",
       "      <td>0.075</td>\n",
       "      <td>17.0</td>\n",
       "      <td>60.0</td>\n",
       "      <td>0.9980</td>\n",
       "      <td>3.16</td>\n",
       "      <td>0.58</td>\n",
       "      <td>9.8</td>\n",
       "      <td>6</td>\n",
       "    </tr>\n",
       "    <tr>\n",
       "      <th>4</th>\n",
       "      <td>7.4</td>\n",
       "      <td>0.70</td>\n",
       "      <td>0.00</td>\n",
       "      <td>1.9</td>\n",
       "      <td>0.076</td>\n",
       "      <td>11.0</td>\n",
       "      <td>34.0</td>\n",
       "      <td>0.9978</td>\n",
       "      <td>3.51</td>\n",
       "      <td>0.56</td>\n",
       "      <td>9.4</td>\n",
       "      <td>5</td>\n",
       "    </tr>\n",
       "  </tbody>\n",
       "</table>\n",
       "</div>"
      ],
      "text/plain": [
       "   fixed acidity  volatile acidity  citric acid  residual sugar  chlorides  \\\n",
       "0            7.4              0.70         0.00             1.9      0.076   \n",
       "1            7.8              0.88         0.00             2.6      0.098   \n",
       "2            7.8              0.76         0.04             2.3      0.092   \n",
       "3           11.2              0.28         0.56             1.9      0.075   \n",
       "4            7.4              0.70         0.00             1.9      0.076   \n",
       "\n",
       "   free sulfur dioxide  total sulfur dioxide  density    pH  sulphates  \\\n",
       "0                 11.0                  34.0   0.9978  3.51       0.56   \n",
       "1                 25.0                  67.0   0.9968  3.20       0.68   \n",
       "2                 15.0                  54.0   0.9970  3.26       0.65   \n",
       "3                 17.0                  60.0   0.9980  3.16       0.58   \n",
       "4                 11.0                  34.0   0.9978  3.51       0.56   \n",
       "\n",
       "   alcohol  quality  \n",
       "0      9.4        5  \n",
       "1      9.8        5  \n",
       "2      9.8        5  \n",
       "3      9.8        6  \n",
       "4      9.4        5  "
      ]
     },
     "execution_count": 15,
     "metadata": {},
     "output_type": "execute_result"
    }
   ],
   "source": [
    "df_wine.head()"
   ]
  },
  {
   "cell_type": "markdown",
   "metadata": {},
   "source": [
    "Наша задача состоит в предсказании целевого признака `quality` по остальным признакам. `quality` - это вещественная переменная (оценка качества от 0 до 10). Упростим себе задачу - создадим новый столбец `quality_cat` по следующим правилам:\n",
    "\n",
    "* `quality_cat = 1` если `quality > 5` \n",
    "* `quality_cat = 0` - иначе \n",
    "\n",
    "Таким образом, `quality_cat` характерует \"плохое\" и \"хорошее\" вино."
   ]
  },
  {
   "cell_type": "code",
   "execution_count": 16,
   "metadata": {
    "collapsed": false
   },
   "outputs": [],
   "source": [
    "def prepocess_wine(df):\n",
    "    df.loc[:, 'quality_cat'] = (df.loc[:, 'quality'] > 5).astype(int)\n",
    "    df = df.drop('quality', axis=1)\n",
    "    \n",
    "    return df"
   ]
  },
  {
   "cell_type": "code",
   "execution_count": 17,
   "metadata": {
    "collapsed": false
   },
   "outputs": [
    {
     "data": {
      "text/html": [
       "<div>\n",
       "<table border=\"1\" class=\"dataframe\">\n",
       "  <thead>\n",
       "    <tr style=\"text-align: right;\">\n",
       "      <th></th>\n",
       "      <th>fixed acidity</th>\n",
       "      <th>volatile acidity</th>\n",
       "      <th>citric acid</th>\n",
       "      <th>residual sugar</th>\n",
       "      <th>chlorides</th>\n",
       "      <th>free sulfur dioxide</th>\n",
       "      <th>total sulfur dioxide</th>\n",
       "      <th>density</th>\n",
       "      <th>pH</th>\n",
       "      <th>sulphates</th>\n",
       "      <th>alcohol</th>\n",
       "      <th>quality_cat</th>\n",
       "    </tr>\n",
       "  </thead>\n",
       "  <tbody>\n",
       "    <tr>\n",
       "      <th>0</th>\n",
       "      <td>7.4</td>\n",
       "      <td>0.70</td>\n",
       "      <td>0.00</td>\n",
       "      <td>1.9</td>\n",
       "      <td>0.076</td>\n",
       "      <td>11.0</td>\n",
       "      <td>34.0</td>\n",
       "      <td>0.9978</td>\n",
       "      <td>3.51</td>\n",
       "      <td>0.56</td>\n",
       "      <td>9.4</td>\n",
       "      <td>0</td>\n",
       "    </tr>\n",
       "    <tr>\n",
       "      <th>1</th>\n",
       "      <td>7.8</td>\n",
       "      <td>0.88</td>\n",
       "      <td>0.00</td>\n",
       "      <td>2.6</td>\n",
       "      <td>0.098</td>\n",
       "      <td>25.0</td>\n",
       "      <td>67.0</td>\n",
       "      <td>0.9968</td>\n",
       "      <td>3.20</td>\n",
       "      <td>0.68</td>\n",
       "      <td>9.8</td>\n",
       "      <td>0</td>\n",
       "    </tr>\n",
       "    <tr>\n",
       "      <th>2</th>\n",
       "      <td>7.8</td>\n",
       "      <td>0.76</td>\n",
       "      <td>0.04</td>\n",
       "      <td>2.3</td>\n",
       "      <td>0.092</td>\n",
       "      <td>15.0</td>\n",
       "      <td>54.0</td>\n",
       "      <td>0.9970</td>\n",
       "      <td>3.26</td>\n",
       "      <td>0.65</td>\n",
       "      <td>9.8</td>\n",
       "      <td>0</td>\n",
       "    </tr>\n",
       "    <tr>\n",
       "      <th>3</th>\n",
       "      <td>11.2</td>\n",
       "      <td>0.28</td>\n",
       "      <td>0.56</td>\n",
       "      <td>1.9</td>\n",
       "      <td>0.075</td>\n",
       "      <td>17.0</td>\n",
       "      <td>60.0</td>\n",
       "      <td>0.9980</td>\n",
       "      <td>3.16</td>\n",
       "      <td>0.58</td>\n",
       "      <td>9.8</td>\n",
       "      <td>1</td>\n",
       "    </tr>\n",
       "    <tr>\n",
       "      <th>4</th>\n",
       "      <td>7.4</td>\n",
       "      <td>0.70</td>\n",
       "      <td>0.00</td>\n",
       "      <td>1.9</td>\n",
       "      <td>0.076</td>\n",
       "      <td>11.0</td>\n",
       "      <td>34.0</td>\n",
       "      <td>0.9978</td>\n",
       "      <td>3.51</td>\n",
       "      <td>0.56</td>\n",
       "      <td>9.4</td>\n",
       "      <td>0</td>\n",
       "    </tr>\n",
       "  </tbody>\n",
       "</table>\n",
       "</div>"
      ],
      "text/plain": [
       "   fixed acidity  volatile acidity  citric acid  residual sugar  chlorides  \\\n",
       "0            7.4              0.70         0.00             1.9      0.076   \n",
       "1            7.8              0.88         0.00             2.6      0.098   \n",
       "2            7.8              0.76         0.04             2.3      0.092   \n",
       "3           11.2              0.28         0.56             1.9      0.075   \n",
       "4            7.4              0.70         0.00             1.9      0.076   \n",
       "\n",
       "   free sulfur dioxide  total sulfur dioxide  density    pH  sulphates  \\\n",
       "0                 11.0                  34.0   0.9978  3.51       0.56   \n",
       "1                 25.0                  67.0   0.9968  3.20       0.68   \n",
       "2                 15.0                  54.0   0.9970  3.26       0.65   \n",
       "3                 17.0                  60.0   0.9980  3.16       0.58   \n",
       "4                 11.0                  34.0   0.9978  3.51       0.56   \n",
       "\n",
       "   alcohol  quality_cat  \n",
       "0      9.4            0  \n",
       "1      9.8            0  \n",
       "2      9.8            0  \n",
       "3      9.8            1  \n",
       "4      9.4            0  "
      ]
     },
     "execution_count": 17,
     "metadata": {},
     "output_type": "execute_result"
    }
   ],
   "source": [
    "df_wine = df_wine.pipe(prepocess_wine)\n",
    "df_wine.head()"
   ]
  },
  {
   "cell_type": "markdown",
   "metadata": {},
   "source": [
    "Нарисуем распределение хорошего и плохого вина по признаку `alcohol`."
   ]
  },
  {
   "cell_type": "code",
   "execution_count": 18,
   "metadata": {
    "collapsed": false
   },
   "outputs": [
    {
     "data": {
      "text/plain": [
       "<matplotlib.legend.Legend at 0x7efc23e3bf90>"
      ]
     },
     "execution_count": 18,
     "metadata": {},
     "output_type": "execute_result"
    },
    {
     "data": {
      "image/png": "[encoded data removed]",
      "text/plain": [
       "<matplotlib.figure.Figure at 0x7efc247e0350>"
      ]
     },
     "metadata": {},
     "output_type": "display_data"
    }
   ],
   "source": [
    "_, ax = plt.subplots(1,1)\n",
    "df_wine.query('quality_cat == 1').hist('alcohol', alpha=0.3, bins=20, label='good', ax=ax)\n",
    "df_wine.query('quality_cat == 0').hist('alcohol', alpha=0.3, bins=20, label='bad', ax=ax)\n",
    "ax.set_xlabel('alcohol')\n",
    "ax.set_ylabel('count')\n",
    "plt.legend()"
   ]
  },
  {
   "cell_type": "markdown",
   "metadata": {},
   "source": [
    "Визуально кажется, что можно найти некоторое пороговое значение признака `alcohol` $\\theta$, чтобы хорошо дискриминировать между плохими и хорошим вином:\n",
    "* Если `alcohol >` $\\theta$ - то предсказываем, что вино хорошее\n",
    "* Если `alcohol <=` $\\theta$ - то предсказываем, что вино плохое\n",
    "\n",
    "Обучаеть классификатор будем очень просто: перебирать значения признака alcohol и считать **ошибку** классификации. То значение, где ошибка минимальна и будет оптимальным.\n",
    "\n",
    "Разделим целевой признак от остальных признаков"
   ]
  },
  {
   "cell_type": "code",
   "execution_count": 19,
   "metadata": {
    "collapsed": false
   },
   "outputs": [],
   "source": [
    "X, y = df_wine.iloc[:, :-1].values, df_wine.iloc[:, -1].values"
   ]
  },
  {
   "cell_type": "markdown",
   "metadata": {},
   "source": [
    "Далее вы увидете пример реализации этого простого классификатора."
   ]
  },
  {
   "cell_type": "code",
   "execution_count": 20,
   "metadata": {
    "collapsed": true
   },
   "outputs": [],
   "source": [
    "from sklearn.base import BaseEstimator, ClassifierMixin\n",
    "\n",
    "class SimpleClassifier(BaseEstimator, ClassifierMixin): \n",
    "    \n",
    "    def __init__(self):\n",
    "        \"\"\"\n",
    "        Инициализация метода\n",
    "        \"\"\"\n",
    "        \n",
    "        self.threshold = 0\n",
    "\n",
    "    def fit(self, X, y=None):\n",
    "        \"\"\"\n",
    "        Выполняет процедуру обучения классификатора. В данном случае - перебор занчения признака alcohol.\n",
    "        Договоримся, что признак alcohol будет в последнем столбце матрицы X\n",
    "        \"\"\"\n",
    "        \n",
    "        alcohol = X[:,-1]\n",
    "        n = float(y.shape[0])\n",
    "        \n",
    "        # Задаем пространство поиска\n",
    "        alco_range = np.arange(alcohol.min(), alcohol.max(), 0.1)\n",
    "        \n",
    "        min_error_rate = 1\n",
    "                \n",
    "        #  Начинаем поиск\n",
    "        for theta in alco_range:\n",
    "            prediction = alcohol > theta   #тут мы сразу весь столбец поэлементно обработали\n",
    "            \n",
    "            error_rate = sum(prediction != y)/n\n",
    "            \n",
    "            if error_rate < min_error_rate:\n",
    "                min_error_rate = error_rate\n",
    "                self.threshold = theta  \n",
    "        \n",
    "        return self\n",
    "\n",
    "    def predict(self, X, y=None):\n",
    "        \"\"\"\n",
    "        Процедура предсказания класса по обученному порогу\n",
    "        \"\"\"\n",
    "        \n",
    "        return (X[:,-1] > self.threshold).astype(int)"
   ]
  },
  {
   "cell_type": "markdown",
   "metadata": {},
   "source": [
    "Обучаем модель"
   ]
  },
  {
   "cell_type": "code",
   "execution_count": 21,
   "metadata": {
    "collapsed": false
   },
   "outputs": [
    {
     "name": "stdout",
     "output_type": "stream",
     "text": [
      "Оптимальный порог: 10.000000\n"
     ]
    }
   ],
   "source": [
    "model = SimpleClassifier()\n",
    "model.fit(X, y)\n",
    "\n",
    "print 'Оптимальный порог: %f' % model.threshold"
   ]
  },
  {
   "cell_type": "markdown",
   "metadata": {},
   "source": [
    "Получаем предсказание модели (на обучающей выборке)"
   ]
  },
  {
   "cell_type": "code",
   "execution_count": 22,
   "metadata": {
    "collapsed": true
   },
   "outputs": [],
   "source": [
    "y_hat = model.predict(X)"
   ]
  },
  {
   "cell_type": "markdown",
   "metadata": {},
   "source": [
    "Оценим долю ошибок на обучающей выборке"
   ]
  },
  {
   "cell_type": "code",
   "execution_count": 23,
   "metadata": {
    "collapsed": false
   },
   "outputs": [
    {
     "name": "stdout",
     "output_type": "stream",
     "text": [
      "Доля ошибок на обучающей выборке: 0.295184\n"
     ]
    }
   ],
   "source": [
    "error_rate = sum(y_hat != y)/float(y.shape[0])\n",
    "print 'Доля ошибок на обучающей выборке: %f' % error_rate"
   ]
  },
  {
   "cell_type": "markdown",
   "metadata": {},
   "source": [
    "## Проверка метода на контрольной выборке\n",
    "\n",
    "Мы обучили наш метод на данных о красном виде. \n",
    "\n",
    "Посмотрим, выполняется ли так же хорошо закономерность между качеством и уровнем алкоголя в белом вине."
   ]
  },
  {
   "cell_type": "code",
   "execution_count": 24,
   "metadata": {
    "collapsed": false
   },
   "outputs": [
    {
     "data": {
      "text/html": [
       "<div>\n",
       "<table border=\"1\" class=\"dataframe\">\n",
       "  <thead>\n",
       "    <tr style=\"text-align: right;\">\n",
       "      <th></th>\n",
       "      <th>fixed acidity</th>\n",
       "      <th>volatile acidity</th>\n",
       "      <th>citric acid</th>\n",
       "      <th>residual sugar</th>\n",
       "      <th>chlorides</th>\n",
       "      <th>free sulfur dioxide</th>\n",
       "      <th>total sulfur dioxide</th>\n",
       "      <th>density</th>\n",
       "      <th>pH</th>\n",
       "      <th>sulphates</th>\n",
       "      <th>alcohol</th>\n",
       "      <th>quality_cat</th>\n",
       "    </tr>\n",
       "  </thead>\n",
       "  <tbody>\n",
       "    <tr>\n",
       "      <th>0</th>\n",
       "      <td>7.0</td>\n",
       "      <td>0.27</td>\n",
       "      <td>0.36</td>\n",
       "      <td>20.7</td>\n",
       "      <td>0.045</td>\n",
       "      <td>45.0</td>\n",
       "      <td>170.0</td>\n",
       "      <td>1.0010</td>\n",
       "      <td>3.00</td>\n",
       "      <td>0.45</td>\n",
       "      <td>8.8</td>\n",
       "      <td>1</td>\n",
       "    </tr>\n",
       "    <tr>\n",
       "      <th>1</th>\n",
       "      <td>6.3</td>\n",
       "      <td>0.30</td>\n",
       "      <td>0.34</td>\n",
       "      <td>1.6</td>\n",
       "      <td>0.049</td>\n",
       "      <td>14.0</td>\n",
       "      <td>132.0</td>\n",
       "      <td>0.9940</td>\n",
       "      <td>3.30</td>\n",
       "      <td>0.49</td>\n",
       "      <td>9.5</td>\n",
       "      <td>1</td>\n",
       "    </tr>\n",
       "    <tr>\n",
       "      <th>2</th>\n",
       "      <td>8.1</td>\n",
       "      <td>0.28</td>\n",
       "      <td>0.40</td>\n",
       "      <td>6.9</td>\n",
       "      <td>0.050</td>\n",
       "      <td>30.0</td>\n",
       "      <td>97.0</td>\n",
       "      <td>0.9951</td>\n",
       "      <td>3.26</td>\n",
       "      <td>0.44</td>\n",
       "      <td>10.1</td>\n",
       "      <td>1</td>\n",
       "    </tr>\n",
       "    <tr>\n",
       "      <th>3</th>\n",
       "      <td>7.2</td>\n",
       "      <td>0.23</td>\n",
       "      <td>0.32</td>\n",
       "      <td>8.5</td>\n",
       "      <td>0.058</td>\n",
       "      <td>47.0</td>\n",
       "      <td>186.0</td>\n",
       "      <td>0.9956</td>\n",
       "      <td>3.19</td>\n",
       "      <td>0.40</td>\n",
       "      <td>9.9</td>\n",
       "      <td>1</td>\n",
       "    </tr>\n",
       "    <tr>\n",
       "      <th>4</th>\n",
       "      <td>7.2</td>\n",
       "      <td>0.23</td>\n",
       "      <td>0.32</td>\n",
       "      <td>8.5</td>\n",
       "      <td>0.058</td>\n",
       "      <td>47.0</td>\n",
       "      <td>186.0</td>\n",
       "      <td>0.9956</td>\n",
       "      <td>3.19</td>\n",
       "      <td>0.40</td>\n",
       "      <td>9.9</td>\n",
       "      <td>1</td>\n",
       "    </tr>\n",
       "  </tbody>\n",
       "</table>\n",
       "</div>"
      ],
      "text/plain": [
       "   fixed acidity  volatile acidity  citric acid  residual sugar  chlorides  \\\n",
       "0            7.0              0.27         0.36            20.7      0.045   \n",
       "1            6.3              0.30         0.34             1.6      0.049   \n",
       "2            8.1              0.28         0.40             6.9      0.050   \n",
       "3            7.2              0.23         0.32             8.5      0.058   \n",
       "4            7.2              0.23         0.32             8.5      0.058   \n",
       "\n",
       "   free sulfur dioxide  total sulfur dioxide  density    pH  sulphates  \\\n",
       "0                 45.0                 170.0   1.0010  3.00       0.45   \n",
       "1                 14.0                 132.0   0.9940  3.30       0.49   \n",
       "2                 30.0                  97.0   0.9951  3.26       0.44   \n",
       "3                 47.0                 186.0   0.9956  3.19       0.40   \n",
       "4                 47.0                 186.0   0.9956  3.19       0.40   \n",
       "\n",
       "   alcohol  quality_cat  \n",
       "0      8.8            1  \n",
       "1      9.5            1  \n",
       "2     10.1            1  \n",
       "3      9.9            1  \n",
       "4      9.9            1  "
      ]
     },
     "execution_count": 24,
     "metadata": {},
     "output_type": "execute_result"
    }
   ],
   "source": [
    "df_wine_test = pd.read_csv('https://archive.ics.uci.edu/ml/machine-learning-databases/wine-quality/winequality-white.csv',\n",
    "                           sep=';')\n",
    "\n",
    "df_wine_test = df_wine_test.pipe(prepocess_wine)\n",
    "df_wine_test.head()"
   ]
  },
  {
   "cell_type": "code",
   "execution_count": 25,
   "metadata": {
    "collapsed": false
   },
   "outputs": [],
   "source": [
    "X_test, y_test = df_wine_test.iloc[:, :-1].values, df_wine_test.iloc[:, -1].values\n",
    "y_hat = model.predict(X_test)"
   ]
  },
  {
   "cell_type": "code",
   "execution_count": 26,
   "metadata": {
    "collapsed": false
   },
   "outputs": [
    {
     "name": "stdout",
     "output_type": "stream",
     "text": [
      "Доля ошибок на контрольной выборке: 0.312577\n"
     ]
    }
   ],
   "source": [
    "error_rate = sum(y_hat != y_test)/float(y_test.shape[0])\n",
    "print 'Доля ошибок на контрольной выборке: %f' % error_rate"
   ]
  },
  {
   "cell_type": "markdown",
   "metadata": {},
   "source": [
    "Получилось неплохо и это лишь наивный алгоритм на одном признаке! Ну а выводы делайте сами =)"
   ]
  },
  {
   "cell_type": "markdown",
   "metadata": {},
   "source": [
    "# Имплементация K-means\n",
    "\n",
    "Пользуясь наработками выше, имплементируйте метод k-means.</br> При инициализации необходимо задавать количество кластеров, функцию расстояния между кластерами (для оригинального k-means - евклидово расстояние) и начальное состояние генератора случайных чисел.\n",
    "\n",
    "После обучения, среди атрибутов класса `Kmeans` должны появится\n",
    "* Метки кластеров для объектов\n",
    "* Координаты центроидов кластеров\n",
    "\n",
    "k-means - это алгоритм **кластеризации**, а не классификации, а посему метод `.predict()` в нем фактически не нужен, но он может возвращать метки ближайшего кластера для объектов."
   ]
  },
  {
   "cell_type": "markdown",
   "metadata": {},
   "source": [
    "#### Задание 1 (5 баллов)\n",
    "\n",
    "Имплементируйте метод k-means"
   ]
  },
  {
   "cell_type": "code",
   "execution_count": 27,
   "metadata": {
    "collapsed": false
   },
   "outputs": [],
   "source": [
    "from sklearn.base import ClusterMixin, BaseEstimator\n",
    "\n",
    "class Kmeans(BaseEstimator, ClusterMixin):\n",
    "    \"\"\"\n",
    "    Имплементация руками криворукого студента метода k-means\n",
    "    \"\"\"\n",
    "    def __init__(self, k=2, metric='euclidean', max_iter=1000, random_state=None):\n",
    "        \"\"\"\n",
    "        Инициализация метода\n",
    "        :k - количество кластеров\n",
    "        :metric - функция расстояния между объектами\n",
    "        :max_iter - максиальное количество итераций\n",
    "        :random_state - seed для инициализации генератора случайных чисел\n",
    "        \"\"\"\n",
    "        self.k = k\n",
    "        self.random_state = random_state\n",
    "        self.metric = metric\n",
    "        self.max_iter = max_iter\n",
    "\n",
    "    def fit(self, X, y=None):\n",
    "        \"\"\"\n",
    "        Процедура настройки местоположения центроидов и разметки точек входного набора данных\n",
    "        \"\"\"\n",
    "        np.random.seed(self.random_state)\n",
    "        self.labels = np.empty(X.shape[0], dtype=int)\n",
    "        self.labels.fill(-1)\n",
    "        self.centroids = np.empty((self.k, X.shape[1]))\n",
    "        self.centroids=X[np.random.choice(range(X.shape[0]),self.k)]\n",
    "        #выбрали в качестве начальных центроидов какие-то рандомные точки датасета\n",
    "        norm = self.euclidNorm \n",
    "        #тут по-хорошему нужно бы сделать выбор нормы, но и так сойдёт (как сказал тов. преп.)\n",
    "        stabilized = True\n",
    "        iter = 0\n",
    "        while (iter < self.max_iter and stabilized):\n",
    "            stabilized = False\n",
    "            for i, x in enumerate(X):\n",
    "                centroid = 0\n",
    "                distance = np.linalg.norm(x-self.centroids[0])\n",
    "                for j, center in enumerate(self.centroids[1:]):\n",
    "                    dist = np.linalg.norm(x - center)\n",
    "                    if distance > dist:\n",
    "                        distance = dist\n",
    "                        centroid = j + 1\n",
    "                if self.labels[i] != centroid: \n",
    "                    stabilized = True\n",
    "                self.labels[i] = centroid\n",
    "            self.centroids.fill(0)\n",
    "            counter = np.full(self.k, 0, dtype=int)\n",
    "            for xi, ci in enumerate(self.labels):\n",
    "                counter[ci] += 1\n",
    "                self.centroids[ci] += X[xi]\n",
    "            centroidIds=np.arange(self.k)\n",
    "            self.centroids[centroidIds[counter!=0]] /= counter[centroidIds[counter!=0], np.newaxis]\n",
    "            iter += 1\n",
    "        return self\n",
    "\n",
    "    def predict(self, X, y=None):\n",
    "        \"\"\"\n",
    "        Процедура предсказания кластера\n",
    "\n",
    "        Возвращает метку ближайшего кластера для каждого объекта\n",
    "        \"\"\"\n",
    "        norm = self.euclidNorm\n",
    "        res = np.empty(X.shape[0], dtype=int)\n",
    "        # Нахождение ближайшего центройда\n",
    "        for i, x in enumerate(X):\n",
    "            centroid = 0\n",
    "            distance = np.linalg.norm(x - self.centroids[0])\n",
    "            for j, c in enumerate(self.centroids[1:]):\n",
    "                    dist = np.linalg.norm(x - c)\n",
    "                    if distance > dist:\n",
    "                        distance = dist\n",
    "                        centroid = j+1\n",
    "            res[i] = centroid\n",
    "        return res\n",
    "\n",
    "    def euclidNorm(x):\n",
    "        return np.linalg.norm(x)"
   ]
  },
  {
   "cell_type": "code",
   "execution_count": 28,
   "metadata": {
    "collapsed": true
   },
   "outputs": [],
   "source": [
    "Kmeans.fit?"
   ]
  },
  {
   "cell_type": "markdown",
   "metadata": {},
   "source": [
    "### Проверка корректности метода\n",
    "\n",
    "Перед тем как применять алгоритм на реальных данных, желатено испытать его на простых \"игрушечных\" данных.\n",
    "\n",
    "Если алгоритм реализован правильно, то метод должен идеально разбивать на 3 кластера данные ниже. Проверьте это."
   ]
  },
  {
   "cell_type": "code",
   "execution_count": 29,
   "metadata": {
    "collapsed": false
   },
   "outputs": [],
   "source": [
    "from sklearn.datasets import make_blobs"
   ]
  },
  {
   "cell_type": "code",
   "execution_count": 30,
   "metadata": {
    "collapsed": false
   },
   "outputs": [],
   "source": [
    "X, y = make_blobs(n_samples=100, n_features=2, centers=3, cluster_std=1, \n",
    "           center_box=(-10.0, 10.0), shuffle=False, random_state=1234)"
   ]
  },
  {
   "cell_type": "code",
   "execution_count": 31,
   "metadata": {
    "collapsed": false
   },
   "outputs": [
    {
     "data": {
      "text/plain": [
       "<matplotlib.collections.PathCollection at 0x7efc23d30650>"
      ]
     },
     "execution_count": 31,
     "metadata": {},
     "output_type": "execute_result"
    },
    {
     "data": {
      "image/png": "[encoded data removed]",
      "text/plain": [
       "<matplotlib.figure.Figure at 0x7efc23d17450>"
      ]
     },
     "metadata": {},
     "output_type": "display_data"
    }
   ],
   "source": [
    "plt.scatter(X[:,0], X[:, 1], c=y)"
   ]
  },
  {
   "cell_type": "markdown",
   "metadata": {},
   "source": [
    "#### Задание 2 (1 балл) \n",
    "\n",
    "Проверьте вашу имплементацию на простых данных"
   ]
  },
  {
   "cell_type": "code",
   "execution_count": 32,
   "metadata": {
    "collapsed": false
   },
   "outputs": [
    {
     "data": {
      "text/plain": [
       "<matplotlib.collections.PathCollection at 0x7efc23be5e50>"
      ]
     },
     "execution_count": 32,
     "metadata": {},
     "output_type": "execute_result"
    },
    {
     "data": {
      "image/png": "[encoded data removed]",
      "text/plain": [
       "<matplotlib.figure.Figure at 0x7efc23c3ae50>"
      ]
     },
     "metadata": {},
     "output_type": "display_data"
    }
   ],
   "source": [
    "#ёр код хир\n",
    "km=Kmeans(3)\n",
    "km.fit(X)\n",
    "y2=km.predict(X)\n",
    "plt.scatter(X[:,0], X[:, 1], c=y2)"
   ]
  },
  {
   "cell_type": "markdown",
   "metadata": {},
   "source": [
    "# Применение K-means на реальных данных"
   ]
  },
  {
   "cell_type": "markdown",
   "metadata": {},
   "source": [
    "Загрузите [данные](https://github.com/brenden17/sklearnlab/blob/master/facebook/snsdata.csv) в которых содержится описание интересов профилей учеников старшей школы США."
   ]
  },
  {
   "cell_type": "code",
   "execution_count": 35,
   "metadata": {
    "collapsed": false
   },
   "outputs": [
    {
     "data": {
      "text/html": [
       "<div>\n",
       "<table border=\"1\" class=\"dataframe\">\n",
       "  <thead>\n",
       "    <tr style=\"text-align: right;\">\n",
       "      <th></th>\n",
       "      <th>gradyear</th>\n",
       "      <th>gender</th>\n",
       "      <th>age</th>\n",
       "      <th>friends</th>\n",
       "      <th>basketball</th>\n",
       "      <th>football</th>\n",
       "      <th>soccer</th>\n",
       "      <th>softball</th>\n",
       "      <th>volleyball</th>\n",
       "      <th>swimming</th>\n",
       "      <th>...</th>\n",
       "      <th>blonde</th>\n",
       "      <th>mall</th>\n",
       "      <th>shopping</th>\n",
       "      <th>clothes</th>\n",
       "      <th>hollister</th>\n",
       "      <th>abercrombie</th>\n",
       "      <th>die</th>\n",
       "      <th>death</th>\n",
       "      <th>drunk</th>\n",
       "      <th>drugs</th>\n",
       "    </tr>\n",
       "  </thead>\n",
       "  <tbody>\n",
       "    <tr>\n",
       "      <th>0</th>\n",
       "      <td>2006</td>\n",
       "      <td>M</td>\n",
       "      <td>18.982</td>\n",
       "      <td>7</td>\n",
       "      <td>0</td>\n",
       "      <td>0</td>\n",
       "      <td>0</td>\n",
       "      <td>0</td>\n",
       "      <td>0</td>\n",
       "      <td>0</td>\n",
       "      <td>...</td>\n",
       "      <td>0</td>\n",
       "      <td>0</td>\n",
       "      <td>0</td>\n",
       "      <td>0</td>\n",
       "      <td>0</td>\n",
       "      <td>0</td>\n",
       "      <td>0</td>\n",
       "      <td>0</td>\n",
       "      <td>0</td>\n",
       "      <td>0</td>\n",
       "    </tr>\n",
       "    <tr>\n",
       "      <th>1</th>\n",
       "      <td>2006</td>\n",
       "      <td>F</td>\n",
       "      <td>18.801</td>\n",
       "      <td>0</td>\n",
       "      <td>0</td>\n",
       "      <td>1</td>\n",
       "      <td>0</td>\n",
       "      <td>0</td>\n",
       "      <td>0</td>\n",
       "      <td>0</td>\n",
       "      <td>...</td>\n",
       "      <td>0</td>\n",
       "      <td>1</td>\n",
       "      <td>0</td>\n",
       "      <td>0</td>\n",
       "      <td>0</td>\n",
       "      <td>0</td>\n",
       "      <td>0</td>\n",
       "      <td>0</td>\n",
       "      <td>0</td>\n",
       "      <td>0</td>\n",
       "    </tr>\n",
       "    <tr>\n",
       "      <th>2</th>\n",
       "      <td>2006</td>\n",
       "      <td>M</td>\n",
       "      <td>18.335</td>\n",
       "      <td>69</td>\n",
       "      <td>0</td>\n",
       "      <td>1</td>\n",
       "      <td>0</td>\n",
       "      <td>0</td>\n",
       "      <td>0</td>\n",
       "      <td>0</td>\n",
       "      <td>...</td>\n",
       "      <td>0</td>\n",
       "      <td>0</td>\n",
       "      <td>0</td>\n",
       "      <td>0</td>\n",
       "      <td>0</td>\n",
       "      <td>0</td>\n",
       "      <td>0</td>\n",
       "      <td>1</td>\n",
       "      <td>0</td>\n",
       "      <td>0</td>\n",
       "    </tr>\n",
       "    <tr>\n",
       "      <th>3</th>\n",
       "      <td>2006</td>\n",
       "      <td>F</td>\n",
       "      <td>18.875</td>\n",
       "      <td>0</td>\n",
       "      <td>0</td>\n",
       "      <td>0</td>\n",
       "      <td>0</td>\n",
       "      <td>0</td>\n",
       "      <td>0</td>\n",
       "      <td>0</td>\n",
       "      <td>...</td>\n",
       "      <td>0</td>\n",
       "      <td>0</td>\n",
       "      <td>0</td>\n",
       "      <td>0</td>\n",
       "      <td>0</td>\n",
       "      <td>0</td>\n",
       "      <td>0</td>\n",
       "      <td>0</td>\n",
       "      <td>0</td>\n",
       "      <td>0</td>\n",
       "    </tr>\n",
       "    <tr>\n",
       "      <th>4</th>\n",
       "      <td>2006</td>\n",
       "      <td>NaN</td>\n",
       "      <td>18.995</td>\n",
       "      <td>10</td>\n",
       "      <td>0</td>\n",
       "      <td>0</td>\n",
       "      <td>0</td>\n",
       "      <td>0</td>\n",
       "      <td>0</td>\n",
       "      <td>0</td>\n",
       "      <td>...</td>\n",
       "      <td>0</td>\n",
       "      <td>0</td>\n",
       "      <td>2</td>\n",
       "      <td>0</td>\n",
       "      <td>0</td>\n",
       "      <td>0</td>\n",
       "      <td>0</td>\n",
       "      <td>0</td>\n",
       "      <td>1</td>\n",
       "      <td>1</td>\n",
       "    </tr>\n",
       "  </tbody>\n",
       "</table>\n",
       "<p>5 rows × 40 columns</p>\n",
       "</div>"
      ],
      "text/plain": [
       "   gradyear gender     age  friends  basketball  football  soccer  softball  \\\n",
       "0      2006      M  18.982        7           0         0       0         0   \n",
       "1      2006      F  18.801        0           0         1       0         0   \n",
       "2      2006      M  18.335       69           0         1       0         0   \n",
       "3      2006      F  18.875        0           0         0       0         0   \n",
       "4      2006    NaN  18.995       10           0         0       0         0   \n",
       "\n",
       "   volleyball  swimming  ...    blonde  mall  shopping  clothes  hollister  \\\n",
       "0           0         0  ...         0     0         0        0          0   \n",
       "1           0         0  ...         0     1         0        0          0   \n",
       "2           0         0  ...         0     0         0        0          0   \n",
       "3           0         0  ...         0     0         0        0          0   \n",
       "4           0         0  ...         0     0         2        0          0   \n",
       "\n",
       "   abercrombie  die  death  drunk  drugs  \n",
       "0            0    0      0      0      0  \n",
       "1            0    0      0      0      0  \n",
       "2            0    0      1      0      0  \n",
       "3            0    0      0      0      0  \n",
       "4            0    0      0      1      1  \n",
       "\n",
       "[5 rows x 40 columns]"
      ]
     },
     "execution_count": 35,
     "metadata": {},
     "output_type": "execute_result"
    }
   ],
   "source": [
    "data = pd.read_csv('snsdata.csv', sep=',')\n",
    "data.head()"
   ]
  },
  {
   "cell_type": "markdown",
   "metadata": {},
   "source": [
    "Данные устроены так: \n",
    "* Год выпуска\n",
    "* Пол\n",
    "* Возраст\n",
    "* Количество друзей\n",
    "* 36 ключевых слов, которые встречаются в профилe facebook (интересы, сообщества, встречи)"
   ]
  },
  {
   "cell_type": "markdown",
   "metadata": {},
   "source": [
    "#### Задание 3 (4 балла)\n",
    "\n",
    "* Удалите все признаки кроме 36 ключевых слов.\n",
    "* Нормализуйте данные - из каждого столбца вычтите его среднее значение и поделите на стандартное отклонение.\n",
    "* Используйте метод k-means чтобы выделить 9 кластеров\n",
    "* Попробуйте проинтерпретировать каждый кластер проанализировав полученные центройды (Некоторые кластеры могут быть очень большие и очень маленькие - плохо интерпретируются)"
   ]
  },
  {
   "cell_type": "code",
   "execution_count": 36,
   "metadata": {
    "collapsed": false
   },
   "outputs": [
    {
     "data": {
      "text/plain": [
       "Kmeans(k=9, max_iter=1000, metric='euclidean', random_state=None)"
      ]
     },
     "execution_count": 36,
     "metadata": {},
     "output_type": "execute_result"
    }
   ],
   "source": [
    "data=data.drop([\"gradyear\",\"gender\",\"age\",\"friends\"],axis=1)\n",
    "\n",
    "data = (data - data.mean())/data.std()\n",
    "\n",
    "km=Kmeans(9)\n",
    "km.fit(data.values)"
   ]
  },
  {
   "cell_type": "code",
   "execution_count": 42,
   "metadata": {
    "collapsed": false
   },
   "outputs": [
    {
     "data": {
      "text/html": [
       "<div>\n",
       "<table border=\"1\" class=\"dataframe\">\n",
       "  <thead>\n",
       "    <tr style=\"text-align: right;\">\n",
       "      <th></th>\n",
       "      <th>basketball</th>\n",
       "      <th>football</th>\n",
       "      <th>soccer</th>\n",
       "      <th>softball</th>\n",
       "      <th>volleyball</th>\n",
       "      <th>swimming</th>\n",
       "      <th>cheerleading</th>\n",
       "      <th>baseball</th>\n",
       "      <th>tennis</th>\n",
       "      <th>sports</th>\n",
       "      <th>...</th>\n",
       "      <th>blonde</th>\n",
       "      <th>mall</th>\n",
       "      <th>shopping</th>\n",
       "      <th>clothes</th>\n",
       "      <th>hollister</th>\n",
       "      <th>abercrombie</th>\n",
       "      <th>die</th>\n",
       "      <th>death</th>\n",
       "      <th>drunk</th>\n",
       "      <th>drugs</th>\n",
       "    </tr>\n",
       "  </thead>\n",
       "  <tbody>\n",
       "    <tr>\n",
       "      <th>0</th>\n",
       "      <td>0.071526</td>\n",
       "      <td>0.079388</td>\n",
       "      <td>0.037070</td>\n",
       "      <td>-0.001858</td>\n",
       "      <td>0.000153</td>\n",
       "      <td>0.121820</td>\n",
       "      <td>-0.044311</td>\n",
       "      <td>0.001425</td>\n",
       "      <td>0.018589</td>\n",
       "      <td>0.288732</td>\n",
       "      <td>...</td>\n",
       "      <td>0.087107</td>\n",
       "      <td>0.317979</td>\n",
       "      <td>0.011833</td>\n",
       "      <td>0.698423</td>\n",
       "      <td>-0.065474</td>\n",
       "      <td>-0.014327</td>\n",
       "      <td>1.440704</td>\n",
       "      <td>0.712219</td>\n",
       "      <td>2.134098</td>\n",
       "      <td>2.408368</td>\n",
       "    </tr>\n",
       "    <tr>\n",
       "      <th>1</th>\n",
       "      <td>-0.028390</td>\n",
       "      <td>0.018099</td>\n",
       "      <td>0.086714</td>\n",
       "      <td>-0.066574</td>\n",
       "      <td>-0.037619</td>\n",
       "      <td>0.319084</td>\n",
       "      <td>-0.089201</td>\n",
       "      <td>-0.087965</td>\n",
       "      <td>0.040519</td>\n",
       "      <td>-0.081824</td>\n",
       "      <td>...</td>\n",
       "      <td>0.014146</td>\n",
       "      <td>0.722665</td>\n",
       "      <td>0.939158</td>\n",
       "      <td>0.556064</td>\n",
       "      <td>-0.038992</td>\n",
       "      <td>-0.061221</td>\n",
       "      <td>0.045701</td>\n",
       "      <td>0.095176</td>\n",
       "      <td>-0.055290</td>\n",
       "      <td>-0.104713</td>\n",
       "    </tr>\n",
       "    <tr>\n",
       "      <th>2</th>\n",
       "      <td>0.168369</td>\n",
       "      <td>0.353392</td>\n",
       "      <td>0.008330</td>\n",
       "      <td>0.072371</td>\n",
       "      <td>0.060450</td>\n",
       "      <td>0.052307</td>\n",
       "      <td>5.497484</td>\n",
       "      <td>0.114320</td>\n",
       "      <td>-0.038562</td>\n",
       "      <td>-0.010976</td>\n",
       "      <td>...</td>\n",
       "      <td>0.071724</td>\n",
       "      <td>0.213565</td>\n",
       "      <td>0.482053</td>\n",
       "      <td>0.106973</td>\n",
       "      <td>0.132997</td>\n",
       "      <td>0.069275</td>\n",
       "      <td>-0.053849</td>\n",
       "      <td>0.014781</td>\n",
       "      <td>-0.043680</td>\n",
       "      <td>-0.038815</td>\n",
       "    </tr>\n",
       "    <tr>\n",
       "      <th>3</th>\n",
       "      <td>-0.186975</td>\n",
       "      <td>-0.189765</td>\n",
       "      <td>-0.081393</td>\n",
       "      <td>-0.139027</td>\n",
       "      <td>-0.130803</td>\n",
       "      <td>-0.104148</td>\n",
       "      <td>-0.154095</td>\n",
       "      <td>-0.139599</td>\n",
       "      <td>-0.038065</td>\n",
       "      <td>-0.154687</td>\n",
       "      <td>...</td>\n",
       "      <td>-0.029754</td>\n",
       "      <td>-0.204776</td>\n",
       "      <td>-0.252343</td>\n",
       "      <td>-0.204686</td>\n",
       "      <td>-0.159290</td>\n",
       "      <td>-0.150325</td>\n",
       "      <td>-0.111387</td>\n",
       "      <td>-0.085588</td>\n",
       "      <td>-0.120628</td>\n",
       "      <td>-0.130069</td>\n",
       "    </tr>\n",
       "    <tr>\n",
       "      <th>4</th>\n",
       "      <td>0.986172</td>\n",
       "      <td>1.131997</td>\n",
       "      <td>0.393567</td>\n",
       "      <td>0.461451</td>\n",
       "      <td>0.125350</td>\n",
       "      <td>0.554981</td>\n",
       "      <td>0.424316</td>\n",
       "      <td>0.655070</td>\n",
       "      <td>0.479131</td>\n",
       "      <td>2.041172</td>\n",
       "      <td>...</td>\n",
       "      <td>1.287147</td>\n",
       "      <td>1.089261</td>\n",
       "      <td>0.830097</td>\n",
       "      <td>2.198962</td>\n",
       "      <td>1.159857</td>\n",
       "      <td>1.378551</td>\n",
       "      <td>2.135520</td>\n",
       "      <td>1.528158</td>\n",
       "      <td>2.285084</td>\n",
       "      <td>2.601741</td>\n",
       "    </tr>\n",
       "    <tr>\n",
       "      <th>5</th>\n",
       "      <td>1.390082</td>\n",
       "      <td>1.224716</td>\n",
       "      <td>0.455051</td>\n",
       "      <td>1.222723</td>\n",
       "      <td>1.085769</td>\n",
       "      <td>0.086835</td>\n",
       "      <td>-0.075578</td>\n",
       "      <td>1.256576</td>\n",
       "      <td>0.137992</td>\n",
       "      <td>1.123429</td>\n",
       "      <td>...</td>\n",
       "      <td>0.034439</td>\n",
       "      <td>-0.019662</td>\n",
       "      <td>0.003063</td>\n",
       "      <td>-0.000744</td>\n",
       "      <td>-0.108020</td>\n",
       "      <td>-0.109258</td>\n",
       "      <td>-0.079133</td>\n",
       "      <td>-0.035091</td>\n",
       "      <td>-0.109677</td>\n",
       "      <td>-0.105474</td>\n",
       "    </tr>\n",
       "    <tr>\n",
       "      <th>6</th>\n",
       "      <td>0.153283</td>\n",
       "      <td>0.179248</td>\n",
       "      <td>0.101006</td>\n",
       "      <td>0.009813</td>\n",
       "      <td>0.179596</td>\n",
       "      <td>0.243823</td>\n",
       "      <td>0.189892</td>\n",
       "      <td>0.000391</td>\n",
       "      <td>0.138439</td>\n",
       "      <td>0.078236</td>\n",
       "      <td>...</td>\n",
       "      <td>0.058554</td>\n",
       "      <td>0.588280</td>\n",
       "      <td>0.787609</td>\n",
       "      <td>0.547790</td>\n",
       "      <td>4.136101</td>\n",
       "      <td>3.945390</td>\n",
       "      <td>0.049564</td>\n",
       "      <td>0.099527</td>\n",
       "      <td>0.040028</td>\n",
       "      <td>0.011816</td>\n",
       "    </tr>\n",
       "    <tr>\n",
       "      <th>7</th>\n",
       "      <td>0.081093</td>\n",
       "      <td>0.056866</td>\n",
       "      <td>0.022390</td>\n",
       "      <td>-0.009709</td>\n",
       "      <td>-0.042288</td>\n",
       "      <td>0.072487</td>\n",
       "      <td>-0.103166</td>\n",
       "      <td>-0.029992</td>\n",
       "      <td>0.051273</td>\n",
       "      <td>-0.055463</td>\n",
       "      <td>...</td>\n",
       "      <td>0.006525</td>\n",
       "      <td>-0.065128</td>\n",
       "      <td>0.027289</td>\n",
       "      <td>0.006952</td>\n",
       "      <td>-0.111358</td>\n",
       "      <td>-0.119152</td>\n",
       "      <td>0.241341</td>\n",
       "      <td>0.331265</td>\n",
       "      <td>0.031268</td>\n",
       "      <td>0.031822</td>\n",
       "    </tr>\n",
       "    <tr>\n",
       "      <th>8</th>\n",
       "      <td>-0.091692</td>\n",
       "      <td>0.063533</td>\n",
       "      <td>-0.089236</td>\n",
       "      <td>-0.059554</td>\n",
       "      <td>-0.077749</td>\n",
       "      <td>0.038877</td>\n",
       "      <td>-0.128101</td>\n",
       "      <td>-0.116518</td>\n",
       "      <td>0.044536</td>\n",
       "      <td>-0.095292</td>\n",
       "      <td>...</td>\n",
       "      <td>-0.008104</td>\n",
       "      <td>-0.084404</td>\n",
       "      <td>-0.049024</td>\n",
       "      <td>-0.001676</td>\n",
       "      <td>-0.167202</td>\n",
       "      <td>-0.134443</td>\n",
       "      <td>0.015129</td>\n",
       "      <td>0.037768</td>\n",
       "      <td>-0.088531</td>\n",
       "      <td>-0.052062</td>\n",
       "    </tr>\n",
       "  </tbody>\n",
       "</table>\n",
       "<p>9 rows × 36 columns</p>\n",
       "</div>"
      ],
      "text/plain": [
       "   basketball  football    soccer  softball  volleyball  swimming  \\\n",
       "0    0.071526  0.079388  0.037070 -0.001858    0.000153  0.121820   \n",
       "1   -0.028390  0.018099  0.086714 -0.066574   -0.037619  0.319084   \n",
       "2    0.168369  0.353392  0.008330  0.072371    0.060450  0.052307   \n",
       "3   -0.186975 -0.189765 -0.081393 -0.139027   -0.130803 -0.104148   \n",
       "4    0.986172  1.131997  0.393567  0.461451    0.125350  0.554981   \n",
       "5    1.390082  1.224716  0.455051  1.222723    1.085769  0.086835   \n",
       "6    0.153283  0.179248  0.101006  0.009813    0.179596  0.243823   \n",
       "7    0.081093  0.056866  0.022390 -0.009709   -0.042288  0.072487   \n",
       "8   -0.091692  0.063533 -0.089236 -0.059554   -0.077749  0.038877   \n",
       "\n",
       "   cheerleading  baseball    tennis    sports    ...       blonde      mall  \\\n",
       "0     -0.044311  0.001425  0.018589  0.288732    ...     0.087107  0.317979   \n",
       "1     -0.089201 -0.087965  0.040519 -0.081824    ...     0.014146  0.722665   \n",
       "2      5.497484  0.114320 -0.038562 -0.010976    ...     0.071724  0.213565   \n",
       "3     -0.154095 -0.139599 -0.038065 -0.154687    ...    -0.029754 -0.204776   \n",
       "4      0.424316  0.655070  0.479131  2.041172    ...     1.287147  1.089261   \n",
       "5     -0.075578  1.256576  0.137992  1.123429    ...     0.034439 -0.019662   \n",
       "6      0.189892  0.000391  0.138439  0.078236    ...     0.058554  0.588280   \n",
       "7     -0.103166 -0.029992  0.051273 -0.055463    ...     0.006525 -0.065128   \n",
       "8     -0.128101 -0.116518  0.044536 -0.095292    ...    -0.008104 -0.084404   \n",
       "\n",
       "   shopping   clothes  hollister  abercrombie       die     death     drunk  \\\n",
       "0  0.011833  0.698423  -0.065474    -0.014327  1.440704  0.712219  2.134098   \n",
       "1  0.939158  0.556064  -0.038992    -0.061221  0.045701  0.095176 -0.055290   \n",
       "2  0.482053  0.106973   0.132997     0.069275 -0.053849  0.014781 -0.043680   \n",
       "3 -0.252343 -0.204686  -0.159290    -0.150325 -0.111387 -0.085588 -0.120628   \n",
       "4  0.830097  2.198962   1.159857     1.378551  2.135520  1.528158  2.285084   \n",
       "5  0.003063 -0.000744  -0.108020    -0.109258 -0.079133 -0.035091 -0.109677   \n",
       "6  0.787609  0.547790   4.136101     3.945390  0.049564  0.099527  0.040028   \n",
       "7  0.027289  0.006952  -0.111358    -0.119152  0.241341  0.331265  0.031268   \n",
       "8 -0.049024 -0.001676  -0.167202    -0.134443  0.015129  0.037768 -0.088531   \n",
       "\n",
       "      drugs  \n",
       "0  2.408368  \n",
       "1 -0.104713  \n",
       "2 -0.038815  \n",
       "3 -0.130069  \n",
       "4  2.601741  \n",
       "5 -0.105474  \n",
       "6  0.011816  \n",
       "7  0.031822  \n",
       "8 -0.052062  \n",
       "\n",
       "[9 rows x 36 columns]"
      ]
     },
     "execution_count": 42,
     "metadata": {},
     "output_type": "execute_result"
    }
   ],
   "source": [
    "new_data = pd.DataFrame(km.centroids, index=range (9), columns=data.columns)\n",
    "new_data"
   ]
  },
  {
   "cell_type": "code",
   "execution_count": 46,
   "metadata": {
    "collapsed": false,
    "scrolled": false
   },
   "outputs": [
    {
     "name": "stdout",
     "output_type": "stream",
     "text": [
      "======== cluster 0 count = 1145 ========\n",
      "drugs           2.408368\n",
      "drunk           2.134098\n",
      "kissed          1.654406\n",
      "hair            1.562378\n",
      "die             1.440704\n",
      "sex             1.019298\n",
      "death           0.712219\n",
      "clothes         0.698423\n",
      "music           0.486890\n",
      "rock            0.361752\n",
      "mall            0.317979\n",
      "sexy            0.289891\n",
      "sports          0.288732\n",
      "god             0.222518\n",
      "dance           0.222503\n",
      "dress           0.215589\n",
      "cute            0.152719\n",
      "band            0.131894\n",
      "swimming        0.121820\n",
      "blonde          0.087107\n",
      "football        0.079388\n",
      "basketball      0.071526\n",
      "church          0.056389\n",
      "hot             0.043824\n",
      "soccer          0.037070\n",
      "jesus           0.026550\n",
      "tennis          0.018589\n",
      "shopping        0.011833\n",
      "baseball        0.001425\n",
      "volleyball      0.000153\n",
      "cluster         0.000000\n",
      "softball       -0.001858\n",
      "abercrombie    -0.014327\n",
      "bible          -0.018892\n",
      "cheerleading   -0.044311\n",
      "hollister      -0.065474\n",
      "marching       -0.074492\n",
      "dtype: float64\n",
      "======== cluster 1 count = 4082 ========\n",
      "cluster         1.000000\n",
      "shopping        0.939158\n",
      "cute            0.869486\n",
      "mall            0.722665\n",
      "dance           0.706433\n",
      "dress           0.702079\n",
      "hot             0.596777\n",
      "clothes         0.556064\n",
      "sexy            0.393582\n",
      "swimming        0.319084\n",
      "music           0.309490\n",
      "hair            0.297663\n",
      "church          0.279331\n",
      "rock            0.184561\n",
      "death           0.095176\n",
      "soccer          0.086714\n",
      "god             0.084742\n",
      "die             0.045701\n",
      "tennis          0.040519\n",
      "football        0.018099\n",
      "blonde          0.014146\n",
      "sex             0.007682\n",
      "jesus           0.001914\n",
      "band           -0.019043\n",
      "kissed         -0.021770\n",
      "basketball     -0.028390\n",
      "volleyball     -0.037619\n",
      "hollister      -0.038992\n",
      "drunk          -0.055290\n",
      "abercrombie    -0.061221\n",
      "softball       -0.066574\n",
      "bible          -0.076713\n",
      "sports         -0.081824\n",
      "baseball       -0.087965\n",
      "cheerleading   -0.089201\n",
      "drugs          -0.104713\n",
      "marching       -0.114113\n",
      "dtype: float64\n",
      "======== cluster 2 count = 638 ========\n",
      "cheerleading    5.497484\n",
      "cluster         2.000000\n",
      "shopping        0.482053\n",
      "football        0.353392\n",
      "cute            0.251996\n",
      "hot             0.226465\n",
      "mall            0.213565\n",
      "basketball      0.168369\n",
      "dance           0.165485\n",
      "hollister       0.132997\n",
      "baseball        0.114320\n",
      "clothes         0.106973\n",
      "church          0.106500\n",
      "sexy            0.091735\n",
      "dress           0.091383\n",
      "rock            0.086496\n",
      "hair            0.079090\n",
      "softball        0.072371\n",
      "blonde          0.071724\n",
      "abercrombie     0.069275\n",
      "volleyball      0.060450\n",
      "swimming        0.052307\n",
      "god             0.044504\n",
      "kissed          0.028183\n",
      "death           0.014781\n",
      "soccer          0.008330\n",
      "sex             0.000562\n",
      "sports         -0.010976\n",
      "jesus          -0.036371\n",
      "tennis         -0.038562\n",
      "drugs          -0.038815\n",
      "music          -0.042224\n",
      "bible          -0.042973\n",
      "drunk          -0.043680\n",
      "die            -0.053849\n",
      "marching       -0.097742\n",
      "band           -0.102475\n",
      "dtype: float64\n",
      "======== cluster 3 count = 19688 ========\n",
      "cluster         3.000000\n",
      "blonde         -0.029754\n",
      "tennis         -0.038065\n",
      "jesus          -0.076171\n",
      "soccer         -0.081393\n",
      "bible          -0.083645\n",
      "death          -0.085588\n",
      "sex            -0.103830\n",
      "swimming       -0.104148\n",
      "marching       -0.109573\n",
      "sexy           -0.111059\n",
      "die            -0.111387\n",
      "god            -0.114077\n",
      "drunk          -0.120628\n",
      "band           -0.121014\n",
      "rock           -0.126544\n",
      "drugs          -0.130069\n",
      "volleyball     -0.130803\n",
      "church         -0.134279\n",
      "softball       -0.139027\n",
      "baseball       -0.139599\n",
      "kissed         -0.146971\n",
      "abercrombie    -0.150325\n",
      "cheerleading   -0.154095\n",
      "music          -0.154663\n",
      "sports         -0.154687\n",
      "hot            -0.156730\n",
      "hollister      -0.159290\n",
      "dress          -0.170844\n",
      "dance          -0.180642\n",
      "basketball     -0.186975\n",
      "football       -0.189765\n",
      "clothes        -0.204686\n",
      "mall           -0.204776\n",
      "cute           -0.219363\n",
      "hair           -0.220918\n",
      "shopping       -0.252343\n",
      "dtype: float64\n",
      "======== cluster 4 count = 197 ========\n",
      "kissed          6.235523\n",
      "sex             4.819713\n",
      "hair            4.649863\n",
      "cluster         4.000000\n",
      "rock            3.897178\n",
      "music           3.050659\n",
      "drugs           2.601741\n",
      "drunk           2.285084\n",
      "clothes         2.198962\n",
      "die             2.135520\n",
      "sports          2.041172\n",
      "death           1.528158\n",
      "abercrombie     1.378551\n",
      "cute            1.299305\n",
      "dress           1.289145\n",
      "blonde          1.287147\n",
      "hollister       1.159857\n",
      "football        1.131997\n",
      "mall            1.089261\n",
      "hot             0.996485\n",
      "sexy            0.991604\n",
      "basketball      0.986172\n",
      "band            0.970862\n",
      "dance           0.904881\n",
      "shopping        0.830097\n",
      "baseball        0.655070\n",
      "god             0.655048\n",
      "swimming        0.554981\n",
      "tennis          0.479131\n",
      "softball        0.461451\n",
      "cheerleading    0.424316\n",
      "soccer          0.393567\n",
      "church          0.384113\n",
      "bible           0.292628\n",
      "marching        0.141482\n",
      "jesus           0.130221\n",
      "volleyball      0.125350\n",
      "dtype: float64\n",
      "======== cluster 5 count = 2376 ========\n",
      "cluster         5.000000\n",
      "basketball      1.390082\n",
      "baseball        1.256576\n",
      "football        1.224716\n",
      "softball        1.222723\n",
      "sports          1.123429\n",
      "volleyball      1.085769\n",
      "soccer          0.455051\n",
      "tennis          0.137992\n",
      "rock            0.131362\n",
      "church          0.115740\n",
      "swimming        0.086835\n",
      "music           0.052395\n",
      "blonde          0.034439\n",
      "god             0.010480\n",
      "hair            0.008809\n",
      "shopping        0.003063\n",
      "clothes        -0.000744\n",
      "sexy           -0.010750\n",
      "mall           -0.019662\n",
      "jesus          -0.019731\n",
      "hot            -0.020029\n",
      "dance          -0.030481\n",
      "death          -0.035091\n",
      "cute           -0.036259\n",
      "sex            -0.040283\n",
      "bible          -0.056943\n",
      "kissed         -0.070405\n",
      "cheerleading   -0.075578\n",
      "die            -0.079133\n",
      "band           -0.085715\n",
      "dress          -0.089578\n",
      "marching       -0.101837\n",
      "drugs          -0.105474\n",
      "hollister      -0.108020\n",
      "abercrombie    -0.109258\n",
      "drunk          -0.109677\n",
      "dtype: float64\n",
      "======== cluster 6 count = 837 ========\n",
      "cluster         6.000000\n",
      "hollister       4.136101\n",
      "abercrombie     3.945390\n",
      "shopping        0.787609\n",
      "mall            0.588280\n",
      "clothes         0.547790\n",
      "hair            0.416013\n",
      "hot             0.401541\n",
      "cute            0.359954\n",
      "swimming        0.243823\n",
      "dance           0.219033\n",
      "cheerleading    0.189892\n",
      "volleyball      0.179596\n",
      "football        0.179248\n",
      "basketball      0.153283\n",
      "dress           0.141212\n",
      "tennis          0.138439\n",
      "sexy            0.114938\n",
      "music           0.111076\n",
      "soccer          0.101006\n",
      "death           0.099527\n",
      "sports          0.078236\n",
      "blonde          0.058554\n",
      "kissed          0.057754\n",
      "rock            0.051961\n",
      "die             0.049564\n",
      "drunk           0.040028\n",
      "sex             0.016730\n",
      "drugs           0.011816\n",
      "softball        0.009813\n",
      "baseball        0.000391\n",
      "god            -0.004853\n",
      "jesus          -0.007804\n",
      "church         -0.008187\n",
      "bible          -0.051702\n",
      "band           -0.104403\n",
      "marching       -0.116449\n",
      "dtype: float64\n",
      "======== cluster 7 count = 448 ========\n",
      "cluster         7.000000\n",
      "bible           4.793170\n",
      "jesus           3.395144\n",
      "god             3.183211\n",
      "church          2.228913\n",
      "death           0.331265\n",
      "music           0.284195\n",
      "die             0.241341\n",
      "rock            0.123902\n",
      "band            0.095327\n",
      "basketball      0.081093\n",
      "swimming        0.072487\n",
      "football        0.056866\n",
      "tennis          0.051273\n",
      "hair            0.031898\n",
      "drugs           0.031822\n",
      "drunk           0.031268\n",
      "shopping        0.027289\n",
      "soccer          0.022390\n",
      "dress           0.011358\n",
      "hot             0.010637\n",
      "clothes         0.006952\n",
      "blonde          0.006525\n",
      "sex             0.000375\n",
      "dance          -0.000911\n",
      "softball       -0.009709\n",
      "marching       -0.017018\n",
      "baseball       -0.029992\n",
      "cute           -0.040736\n",
      "volleyball     -0.042288\n",
      "kissed         -0.053613\n",
      "sports         -0.055463\n",
      "mall           -0.065128\n",
      "cheerleading   -0.103166\n",
      "sexy           -0.110961\n",
      "hollister      -0.111358\n",
      "abercrombie    -0.119152\n",
      "dtype: float64\n",
      "======== cluster 8 count = 589 ========\n",
      "cluster         8.000000\n",
      "marching        5.246041\n",
      "band            4.128499\n",
      "music           0.518429\n",
      "rock            0.152431\n",
      "god             0.069440\n",
      "football        0.063533\n",
      "church          0.048509\n",
      "dress           0.047751\n",
      "tennis          0.044536\n",
      "dance           0.040272\n",
      "swimming        0.038877\n",
      "death           0.037768\n",
      "die             0.015129\n",
      "clothes        -0.001676\n",
      "hair           -0.007564\n",
      "blonde         -0.008104\n",
      "jesus          -0.014614\n",
      "kissed         -0.025949\n",
      "bible          -0.029579\n",
      "cute           -0.032093\n",
      "sex            -0.038288\n",
      "sexy           -0.045536\n",
      "shopping       -0.049024\n",
      "drugs          -0.052062\n",
      "hot            -0.058705\n",
      "softball       -0.059554\n",
      "volleyball     -0.077749\n",
      "mall           -0.084404\n",
      "drunk          -0.088531\n",
      "soccer         -0.089236\n",
      "basketball     -0.091692\n",
      "sports         -0.095292\n",
      "baseball       -0.116518\n",
      "cheerleading   -0.128101\n",
      "abercrombie    -0.134443\n",
      "hollister      -0.167202\n",
      "dtype: float64\n"
     ]
    }
   ],
   "source": [
    "data.loc[:, 'cluster'] = km.labels\n",
    "for i,group in data.groupby('cluster'):\n",
    "    print  '========',  'cluster %i'%i, 'count = %d'%len(group), '========'\n",
    "    print group.mean().sort_values(ascending=False)"
   ]
  },
  {
   "cell_type": "markdown",
   "metadata": {},
   "source": [
    "Интерпретирую группы:\n",
    "### кластер 0:\n",
    "выпивка, наркотики, поцелуи, секс, патлы - спишем на школьников переходного возраста\n",
    "\n",
    "### кластер 1:\n",
    "шоппинг, тц, танцы - школьники любящие тусить по ТЦ\n",
    "\n",
    "### кластер 2:\n",
    "ЧЕРЛИДИНГ с большим отрывом на первом месте - черлидинг и парни, им интересующиеся\n",
    "\n",
    "### кластер 3:\n",
    "он огромный (19668 человек) и не интерпретируется (скорее всего, его можно разбить на подкластеры и проанализировать их отдельно)\n",
    "\n",
    "### кластер 4:\n",
    "поцелуи, секс, волосы, рок - переходный возраст более нежной половины человечества\n",
    "\n",
    "### кластер 5:\n",
    "очевидные спортсмены\n",
    "\n",
    "### кластер 6:\n",
    "в лидерах две марки одежды, шоппинг, моллы и одежда - модники\n",
    "\n",
    "### кластер 7:\n",
    "Библия, Иисус, Бог - религиозная группа\n",
    "\n",
    "### кластер 8:\n",
    "музыканты"
   ]
  }
 ],
 "metadata": {
  "anaconda-cloud": {},
  "kernelspec": {
   "display_name": "Python 2",
   "language": "python",
   "name": "python2"
  },
  "language_info": {
   "codemirror_mode": {
    "name": "ipython",
    "version": 2
   },
   "file_extension": ".py",
   "mimetype": "text/x-python",
   "name": "python",
   "nbconvert_exporter": "python",
   "pygments_lexer": "ipython2",
   "version": "2.7.12"
  },
  "nav_menu": {},
  "toc": {
   "navigate_menu": true,
   "number_sections": false,
   "sideBar": true,
   "threshold": 6,
   "toc_cell": false,
   "toc_section_display": "block",
   "toc_window_display": true
  }
 },
 "nbformat": 4,
 "nbformat_minor": 2
}
